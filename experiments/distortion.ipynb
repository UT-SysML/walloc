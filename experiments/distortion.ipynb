{
 "cells": [
  {
   "cell_type": "code",
   "execution_count": null,
   "id": "ea297301-79b7-4210-ac4d-c73e111aefbb",
   "metadata": {},
   "outputs": [],
   "source": [
    "!wget https://hf.co/danjacobellis/walloc/resolve/main/v0.6.3_ext.pth"
   ]
  },
  {
   "cell_type": "code",
   "execution_count": 34,
   "id": "d9ce01cd-ac3c-4b50-aab5-73424d158b55",
   "metadata": {},
   "outputs": [],
   "source": [
    "import os\n",
    "import torch\n",
    "import matplotlib.pyplot as plt\n",
    "import numpy as np\n",
    "from datasets import load_dataset\n",
    "from PIL import Image\n",
    "from IPython.display import display\n",
    "from torchvision.transforms import ToPILImage, PILToTensor, Resize, CenterCrop, ToTensor\n",
    "from walloc import walloc\n",
    "from piq import LPIPS\n",
    "class Args: pass"
   ]
  },
  {
   "cell_type": "code",
   "execution_count": 2,
   "id": "c2478465-de1a-4aa0-9833-79f6efc64c21",
   "metadata": {},
   "outputs": [],
   "source": [
    "device = \"cuda:0\"\n",
    "checkpoint = torch.load(\"v0.6.3_ext.pth\",map_location=\"cpu\")\n",
    "args = checkpoint['args']\n",
    "codec = walloc.Walloc(\n",
    "    channels = args.channels,\n",
    "    J = args.J,\n",
    "    N = args.N,\n",
    "    latent_dim = args.latent_dim,\n",
    "    latent_bits = 5\n",
    ")\n",
    "codec.load_state_dict(checkpoint['model_state_dict'])\n",
    "codec = codec.to(device)\n",
    "codec.eval();"
   ]
  },
  {
   "cell_type": "code",
   "execution_count": 4,
   "id": "df0358dd-89dc-407a-9393-4b6e09a549e6",
   "metadata": {},
   "outputs": [
    {
     "data": {
      "application/vnd.jupyter.widget-view+json": {
       "model_id": "767e4ecdeef84236a6ba8d14b5e11f3b",
       "version_major": 2,
       "version_minor": 0
      },
      "text/plain": [
       "Loading dataset shards:   0%|          | 0/257 [00:00<?, ?it/s]"
      ]
     },
     "metadata": {},
     "output_type": "display_data"
    },
    {
     "data": {
      "application/vnd.jupyter.widget-view+json": {
       "model_id": "56b888a6c6eb4df99ac00a31f5f59079",
       "version_major": 2,
       "version_minor": 0
      },
      "text/plain": [
       "Loading dataset shards:   0%|          | 0/25 [00:00<?, ?it/s]"
      ]
     },
     "metadata": {},
     "output_type": "display_data"
    }
   ],
   "source": [
    "inet1k = load_dataset(\"imagenet-1k\")"
   ]
  },
  {
   "cell_type": "code",
   "execution_count": 48,
   "id": "d7f41bbb-6a98-436a-a006-453d842e5df2",
   "metadata": {},
   "outputs": [
    {
     "name": "stderr",
     "output_type": "stream",
     "text": [
      "/usr/local/lib/python3.10/dist-packages/torchvision/models/_utils.py:208: UserWarning: The parameter 'pretrained' is deprecated since 0.13 and may be removed in the future, please use 'weights' instead.\n",
      "  warnings.warn(\n",
      "/usr/local/lib/python3.10/dist-packages/torchvision/models/_utils.py:223: UserWarning: Arguments other than a weight enum or `None` for 'weights' are deprecated since 0.13 and may be removed in the future. The current behavior is equivalent to passing `weights=VGG16_Weights.IMAGENET1K_V1`. You can also use `weights=VGG16_Weights.DEFAULT` to get the most up-to-date weights.\n",
      "  warnings.warn(msg)\n"
     ]
    }
   ],
   "source": [
    "lpips_loss = LPIPS().to(device)"
   ]
  },
  {
   "cell_type": "code",
   "execution_count": 60,
   "id": "fe8827a4-32fc-4f3c-8c2f-0241c0b70ffa",
   "metadata": {},
   "outputs": [
    {
     "name": "stdout",
     "output_type": "stream",
     "text": [
      "CPU times: user 2d 15h 20min 31s, sys: 15min 17s, total: 2d 15h 35min 49s\n",
      "Wall time: 1h 6min 55s\n"
     ]
    }
   ],
   "source": [
    "%%time\n",
    "lanczos = Image.Resampling.LANCZOS\n",
    "lpips_224 = []\n",
    "lpips_walloc = []\n",
    "for i_sample, sample in enumerate(inet1k['validation']):\n",
    "    img = sample['image'].convert(\"RGB\")\n",
    "    img = CenterCrop(min(img.width,img.height))(img)\n",
    "    img_224 = Resize(img.width)((Resize(224,lanczos)(img)))\n",
    "    with torch.no_grad():\n",
    "        x = PILToTensor()(Resize(512)(img)).to(torch.float)\n",
    "        x = (x/255 - 0.5).unsqueeze(0).to(device)\n",
    "        x_hat, _, _ = codec(x)\n",
    "        img_walloc = ToPILImage()(x_hat[0]+0.5)\n",
    "        img_walloc = Resize(img.width)(img_walloc)\n",
    "        \n",
    "        lpips_224.append(lpips_loss(\n",
    "            ToTensor()(img).unsqueeze(0).to(device),\n",
    "            ToTensor()(img_224).unsqueeze(0).to(device),\n",
    "        ).item())\n",
    "        lpips_walloc.append(lpips_loss(\n",
    "            ToTensor()(img).unsqueeze(0).to(device),\n",
    "            ToTensor()(img_walloc).unsqueeze(0).to(device),\n",
    "        ).item())"
   ]
  },
  {
   "cell_type": "code",
   "execution_count": 63,
   "id": "0777fa2d-3c86-4887-b305-efbb5b931672",
   "metadata": {},
   "outputs": [
    {
     "name": "stderr",
     "output_type": "stream",
     "text": [
      "/tmp/ipykernel_1020559/4194406233.py:1: RuntimeWarning: divide by zero encountered in log10\n",
      "  np.median([-10*np.log10(d) for d in lpips_224])\n"
     ]
    },
    {
     "data": {
      "text/plain": [
       "7.9270323079281715"
      ]
     },
     "execution_count": 63,
     "metadata": {},
     "output_type": "execute_result"
    }
   ],
   "source": [
    "np.median([-10*np.log10(d) for d in lpips_224])"
   ]
  },
  {
   "cell_type": "code",
   "execution_count": 64,
   "id": "bb531896-371a-4b36-8d2e-5785728b4d32",
   "metadata": {},
   "outputs": [
    {
     "data": {
      "text/plain": [
       "8.172087484982198"
      ]
     },
     "execution_count": 64,
     "metadata": {},
     "output_type": "execute_result"
    }
   ],
   "source": [
    "np.median([-10*np.log10(d) for d in lpips_walloc])"
   ]
  }
 ],
 "metadata": {
  "kernelspec": {
   "display_name": "Python 3 (ipykernel)",
   "language": "python",
   "name": "python3"
  },
  "language_info": {
   "codemirror_mode": {
    "name": "ipython",
    "version": 3
   },
   "file_extension": ".py",
   "mimetype": "text/x-python",
   "name": "python",
   "nbconvert_exporter": "python",
   "pygments_lexer": "ipython3",
   "version": "3.10.12"
  }
 },
 "nbformat": 4,
 "nbformat_minor": 5
}
