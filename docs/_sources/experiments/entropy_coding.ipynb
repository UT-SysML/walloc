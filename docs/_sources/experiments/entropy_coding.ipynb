{
 "cells": [
  {
   "cell_type": "code",
   "execution_count": null,
   "id": "26b25bcf-3584-4cad-8eda-1863bff566c9",
   "metadata": {},
   "outputs": [],
   "source": [
    "!wget https://hf.co/danjacobellis/walloc/resolve/main/v0.6.3_ext.pth"
   ]
  },
  {
   "cell_type": "code",
   "execution_count": 1,
   "id": "edf05c1e-a18d-44bf-a534-f074953ce4f9",
   "metadata": {},
   "outputs": [],
   "source": [
    "import os\n",
    "import io\n",
    "import torch\n",
    "import matplotlib.pyplot as plt\n",
    "import numpy as np\n",
    "from PIL import Image\n",
    "from IPython.display import display\n",
    "from torchvision.transforms import ToPILImage, PILToTensor, Resize\n",
    "from walloc import walloc\n",
    "from walloc.walloc import latent_to_pil, pil_to_latent\n",
    "from datasets import load_dataset, get_dataset_config_names\n",
    "class Args: pass"
   ]
  },
  {
   "cell_type": "code",
   "execution_count": 2,
   "id": "35dfba0d-ae7a-43ea-9f6e-530fcb660692",
   "metadata": {},
   "outputs": [],
   "source": [
    "device = \"cuda\"\n",
    "checkpoint = torch.load(\"v0.6.3_ext.pth\",map_location=\"cpu\")\n",
    "args = checkpoint['args']\n",
    "codec = walloc.Walloc(\n",
    "    channels = args.channels,\n",
    "    J = args.J,\n",
    "    N = args.N,\n",
    "    latent_dim = args.latent_dim,\n",
    "    latent_bits = 5\n",
    ")\n",
    "codec.load_state_dict(checkpoint['model_state_dict'])\n",
    "codec = codec.to(device)\n",
    "codec.eval();"
   ]
  },
  {
   "cell_type": "code",
   "execution_count": 3,
   "id": "93d93aa6-2c51-4868-bbc1-da30c1af0726",
   "metadata": {},
   "outputs": [],
   "source": [
    "config_names = get_dataset_config_names(\"danjacobellis/imagenet-1k-standardized\")\n",
    "for size in config_names:\n",
    "    inet1k = load_dataset(\"danjacobellis/imagenet-1k-standardized\",name=size)\n",
    "    break"
   ]
  },
  {
   "cell_type": "code",
   "execution_count": 4,
   "id": "7184d424-681a-422e-ad6a-a4ea49a436cc",
   "metadata": {},
   "outputs": [],
   "source": [
    "inet1k = load_dataset(\"danjacobellis/imagenet-1k-standardized\",name=\"large_landscape\")"
   ]
  },
  {
   "cell_type": "code",
   "execution_count": 9,
   "id": "1632314f-c020-4043-bbb2-3f9b15923e69",
   "metadata": {},
   "outputs": [],
   "source": [
    "def walloc_encode_png(batch):\n",
    "    with torch.no_grad():\n",
    "        x = [PILToTensor()(img).unsqueeze(0) for img in batch['image']]\n",
    "        x = torch.cat(x,dim=0)\n",
    "        x = x.to(torch.float)\n",
    "        x = (x/255 - 0.5)\n",
    "        x = x.to(device)\n",
    "        X = codec.wavelet_analysis(x,J=codec.J)\n",
    "        latent = codec.encoder(X).to(\"cpu\")\n",
    "        image_list = latent_to_pil(latent,5,1)\n",
    "        buffer_list = []\n",
    "        for image in image_list:\n",
    "            buff = io.BytesIO()\n",
    "            image.save(buff, format='png')\n",
    "            buffer_list.append(buff.getbuffer())\n",
    "        return {\"image\": buffer_list,\n",
    "                \"label\": batch['label']}"
   ]
  },
  {
   "cell_type": "code",
   "execution_count": 17,
   "id": "22d29e27-c38f-4e7b-bc26-8d0d2130bc7e",
   "metadata": {},
   "outputs": [],
   "source": [
    "def walloc_encode_tiff(batch):\n",
    "    with torch.no_grad():\n",
    "        x = [PILToTensor()(img).unsqueeze(0) for img in batch['image']]\n",
    "        x = torch.cat(x,dim=0)\n",
    "        x = x.to(torch.float)\n",
    "        x = (x/255 - 0.5)\n",
    "        x = x.to(device)\n",
    "        X = codec.wavelet_analysis(x,J=codec.J)\n",
    "        latent = codec.encoder(X).to(\"cpu\")\n",
    "        image_list = latent_to_pil(latent,5,4)\n",
    "        buffer_list = []\n",
    "        for image in image_list:\n",
    "            buff = io.BytesIO()\n",
    "            image.save(buff, format='TIFF', compression=\"tiff_adobe_deflate\")\n",
    "            buffer_list.append(buff.getbuffer())\n",
    "        return {\"image\": buffer_list,\n",
    "                \"label\": batch['label']}"
   ]
  },
  {
   "cell_type": "code",
   "execution_count": 41,
   "id": "ffaddbb1-8a67-4b65-ab22-bdabf0949d25",
   "metadata": {},
   "outputs": [
    {
     "data": {
      "application/vnd.jupyter.widget-view+json": {
       "model_id": "48aeccc8fd1a49f7a4e16336c673d028",
       "version_major": 2,
       "version_minor": 0
      },
      "text/plain": [
       "Saving the dataset (0/1 shards):   0%|          | 0/4096 [00:00<?, ? examples/s]"
      ]
     },
     "metadata": {},
     "output_type": "display_data"
    }
   ],
   "source": [
    "walloc_png = inet1k['train'].select(range(4096)).map(walloc_encode_png, batched=True, batch_size=64)\n",
    "walloc_png.save_to_disk(\"png\")"
   ]
  },
  {
   "cell_type": "code",
   "execution_count": 42,
   "id": "c7aeb0c6-0197-463f-8495-5057a13afab8",
   "metadata": {},
   "outputs": [
    {
     "name": "stdout",
     "output_type": "stream",
     "text": [
      "229M\tpng\n"
     ]
    }
   ],
   "source": [
    "! du -sh png"
   ]
  },
  {
   "cell_type": "code",
   "execution_count": 43,
   "id": "5f0e14f1-1fb7-409a-9e93-c4757dd7c82f",
   "metadata": {},
   "outputs": [
    {
     "data": {
      "text/plain": [
       "10.74235807860262"
      ]
     },
     "execution_count": 43,
     "metadata": {},
     "output_type": "execute_result"
    }
   ],
   "source": [
    "41*60/229"
   ]
  },
  {
   "cell_type": "code",
   "execution_count": 44,
   "id": "a6013c7b-a4aa-436c-af76-5937df0f6672",
   "metadata": {},
   "outputs": [
    {
     "data": {
      "application/vnd.jupyter.widget-view+json": {
       "model_id": "8492f61aac76420796baab5c6543e201",
       "version_major": 2,
       "version_minor": 0
      },
      "text/plain": [
       "Saving the dataset (0/1 shards):   0%|          | 0/4096 [00:00<?, ? examples/s]"
      ]
     },
     "metadata": {},
     "output_type": "display_data"
    }
   ],
   "source": [
    "walloc_tiff = inet1k['train'].select(range(4096)).map(walloc_encode_tiff, batched=True, batch_size=64)\n",
    "walloc_tiff.save_to_disk(\"tiff\")"
   ]
  },
  {
   "cell_type": "code",
   "execution_count": 45,
   "id": "962168f0-8627-45fa-b826-b97cfac2939f",
   "metadata": {},
   "outputs": [
    {
     "name": "stdout",
     "output_type": "stream",
     "text": [
      "259M\ttiff\n"
     ]
    }
   ],
   "source": [
    "! du -sh tiff"
   ]
  },
  {
   "cell_type": "code",
   "execution_count": 46,
   "id": "4b81cc38-8de3-49b5-99d6-6362b9961866",
   "metadata": {},
   "outputs": [
    {
     "data": {
      "text/plain": [
       "11.71042471042471"
      ]
     },
     "execution_count": 46,
     "metadata": {},
     "output_type": "execute_result"
    }
   ],
   "source": [
    "50.55*60/259"
   ]
  }
 ],
 "metadata": {
  "kernelspec": {
   "display_name": "Python 3 (ipykernel)",
   "language": "python",
   "name": "python3"
  },
  "language_info": {
   "codemirror_mode": {
    "name": "ipython",
    "version": 3
   },
   "file_extension": ".py",
   "mimetype": "text/x-python",
   "name": "python",
   "nbconvert_exporter": "python",
   "pygments_lexer": "ipython3",
   "version": "3.10.12"
  }
 },
 "nbformat": 4,
 "nbformat_minor": 5
}
