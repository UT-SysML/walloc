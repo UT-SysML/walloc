{
 "cells": [
  {
   "cell_type": "code",
   "execution_count": null,
   "id": "eafbc249-a54e-47a9-a7b4-d858379c7e42",
   "metadata": {},
   "outputs": [],
   "source": [
    "!wget -c https://zenodo.org/records/3338373/files/musdb18hq.zip"
   ]
  },
  {
   "cell_type": "code",
   "execution_count": null,
   "id": "4274b4b6-dec8-4969-bbb6-c020284ec014",
   "metadata": {},
   "outputs": [],
   "source": [
    "!unzip musdb18hq.zip -d musdb18hq"
   ]
  },
  {
   "cell_type": "code",
   "execution_count": 1,
   "id": "d8366554-98a4-4e7c-a3f3-aa1f4b5a2208",
   "metadata": {},
   "outputs": [],
   "source": [
    "import torch\n",
    "import torchaudio\n",
    "from glob import glob\n",
    "from datasets import Dataset, Features, Audio, Value\n",
    "from IPython.display import Audio\n",
    "from einops import rearrange"
   ]
  },
  {
   "cell_type": "code",
   "execution_count": 96,
   "id": "4b2fbbfd-2397-40d6-839e-3b212cd097ed",
   "metadata": {},
   "outputs": [],
   "source": [
    "N = (2**21)\n",
    "tracks = [path.split(\"/\")[2] for path in glob(\"musdb18hq/train/*/*.wav\")][::5]\n",
    "for i_track, track in enumerate(tracks):\n",
    "    mix_path = f\"musdb18hq/train/{track}/mixture.wav\"\n",
    "    vocal_path = f\"musdb18hq/train/{track}/vocals.wav\"\n",
    "    x,fs = torchaudio.load(mix_path, normalize=False)\n",
    "    v,fs = torchaudio.load(vocal_path, normalize=False)\n",
    "    C, L = v.shape\n",
    "    assert(x.shape == v.shape)\n",
    "    assert fs==44100\n",
    "    assert C==2\n",
    "    if L<=N:\n",
    "        continue\n",
    "    B = L//N\n",
    "    x = x[:,:(B*N)]\n",
    "    v = v[:,:(B*N)]\n",
    "    x = rearrange(x, 'C (B N) -> B C N', B=B)\n",
    "    v = rearrange(v, 'C (B N) -> B C N', B=B)\n",
    "    \n",
    "    # remove segments that don't have enough vocals\n",
    "    p = v.to(torch.float).norm(dim=1).mean(dim=1)\n",
    "    x = x[p>200]\n",
    "    v = v[p>200]\n",
    "    break"
   ]
  }
 ],
 "metadata": {
  "kernelspec": {
   "display_name": "Python 3 (ipykernel)",
   "language": "python",
   "name": "python3"
  },
  "language_info": {
   "codemirror_mode": {
    "name": "ipython",
    "version": 3
   },
   "file_extension": ".py",
   "mimetype": "text/x-python",
   "name": "python",
   "nbconvert_exporter": "python",
   "pygments_lexer": "ipython3",
   "version": "3.10.12"
  }
 },
 "nbformat": 4,
 "nbformat_minor": 5
}
