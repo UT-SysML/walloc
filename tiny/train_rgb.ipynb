{
 "cells": [
  {
   "cell_type": "code",
   "execution_count": 1,
   "id": "0b81f6f4-5749-41e9-b03f-c3799c7a3b76",
   "metadata": {},
   "outputs": [],
   "source": [
    "import numpy as np\n",
    "from types import SimpleNamespace\n",
    "from datasets import load_dataset\n",
    "from tinygrad import Tensor\n",
    "from random import randint\n",
    "from fastprogress.fastprogress import master_bar, progress_bar\n",
    "from multiprocessing import Pool"
   ]
  },
  {
   "cell_type": "code",
   "execution_count": 2,
   "id": "cbd2c8e4-e708-482e-bda6-436f701bc17f",
   "metadata": {},
   "outputs": [
    {
     "data": {
      "application/vnd.jupyter.widget-view+json": {
       "model_id": "03e9b3c85c6447c8b056f1043b96acfc",
       "version_major": 2,
       "version_minor": 0
      },
      "text/plain": [
       "Resolving data files:   0%|          | 0/89 [00:00<?, ?it/s]"
      ]
     },
     "metadata": {},
     "output_type": "display_data"
    },
    {
     "data": {
      "application/vnd.jupyter.widget-view+json": {
       "model_id": "a1b91bcff4c04024b7404a6cd9c0ae58",
       "version_major": 2,
       "version_minor": 0
      },
      "text/plain": [
       "Resolving data files:   0%|          | 0/89 [00:00<?, ?it/s]"
      ]
     },
     "metadata": {},
     "output_type": "display_data"
    },
    {
     "data": {
      "application/vnd.jupyter.widget-view+json": {
       "model_id": "90f18b5d7dd342f08251c2caab3b7123",
       "version_major": 2,
       "version_minor": 0
      },
      "text/plain": [
       "Loading dataset shards:   0%|          | 0/85 [00:00<?, ?it/s]"
      ]
     },
     "metadata": {},
     "output_type": "display_data"
    },
    {
     "data": {
      "application/vnd.jupyter.widget-view+json": {
       "model_id": "ca9657dfb8b9429c8b74938987316103",
       "version_major": 2,
       "version_minor": 0
      },
      "text/plain": [
       "Resolving data files:   0%|          | 0/89 [00:00<?, ?it/s]"
      ]
     },
     "metadata": {},
     "output_type": "display_data"
    },
    {
     "data": {
      "application/vnd.jupyter.widget-view+json": {
       "model_id": "3394eb7c7c1e4cf9b314b377df6dc7a9",
       "version_major": 2,
       "version_minor": 0
      },
      "text/plain": [
       "Resolving data files:   0%|          | 0/89 [00:00<?, ?it/s]"
      ]
     },
     "metadata": {},
     "output_type": "display_data"
    }
   ],
   "source": [
    "dataset_train = load_dataset(\"danjacobellis/LSDIR_540\", split=\"train\")\n",
    "dataset_valid = load_dataset(\"danjacobellis/LSDIR_540\", split=\"validation\")"
   ]
  },
  {
   "cell_type": "code",
   "execution_count": 3,
   "id": "150b62c0-3a6e-4da6-92c5-a27e72a19ee5",
   "metadata": {},
   "outputs": [],
   "source": [
    "config = SimpleNamespace()\n",
    "config.epochs = 250\n",
    "config.batch_size = 64\n",
    "config.crop = 256\n",
    "config.num_workers = 8"
   ]
  },
  {
   "cell_type": "code",
   "execution_count": 4,
   "id": "bd32b1e4-44cb-40b4-8d66-2288e8a1891b",
   "metadata": {},
   "outputs": [],
   "source": [
    "def random_crop(im,w,h):\n",
    "    W,H=im.size\n",
    "    assert max(w-W,h-H)<=0\n",
    "    l,t=randint(0,W-w),randint(0,H-h)\n",
    "    return im.crop((l,t,l+w,t+h))\n",
    "    \n",
    "def center_crop(im,w,h):\n",
    "    W,H=im.size\n",
    "    return im.crop(((W-w)//2,(H-h)//2,(W+w)//2,(H+h)//2))\n",
    "\n",
    "def process_sample(index):\n",
    "    index = int(index)  # Convert numpy.int64 to int\n",
    "    sample = dataset_train[index]\n",
    "    image = random_crop(sample['image'], config.crop, config.crop)\n",
    "    arr = np.array(image)\n",
    "    return arr\n",
    "\n",
    "    \n",
    "class ReplacementSampler:\n",
    "    def __init__(self, total_samples_needed, batch_size):\n",
    "        self.total_samples_needed = total_samples_needed\n",
    "        self.batch_size = batch_size\n",
    "        self.number_of_batches = int(np.ceil(self.total_samples_needed / self.batch_size))\n",
    "        self.batches_generated = 0\n",
    "\n",
    "    def __iter__(self):\n",
    "        self.batches_generated = 0  # Reset for new iteration\n",
    "        return self\n",
    "\n",
    "    def __next__(self):\n",
    "        if self.batches_generated >= self.number_of_batches:\n",
    "            raise StopIteration\n",
    "        indices = np.random.choice(\n",
    "            self.total_samples_needed, size=self.batch_size, replace=True\n",
    "        )\n",
    "        self.batches_generated += 1\n",
    "        return indices\n",
    "\n",
    "    def __len__(self):\n",
    "        return self.number_of_batches"
   ]
  },
  {
   "cell_type": "code",
   "execution_count": null,
   "id": "61273b94-55db-44ab-858d-4c3276c06f80",
   "metadata": {},
   "outputs": [
    {
     "data": {
      "text/html": [
       "\n",
       "<style>\n",
       "    /* Turns off some styling */\n",
       "    progress {\n",
       "        /* gets rid of default border in Firefox and Opera. */\n",
       "        border: none;\n",
       "        /* Needs to be in here for Safari polyfill so background images work as expected. */\n",
       "        background-size: auto;\n",
       "    }\n",
       "    progress:not([value]), progress:not([value])::-webkit-progress-bar {\n",
       "        background: repeating-linear-gradient(45deg, #7e7e7e, #7e7e7e 10px, #5c5c5c 10px, #5c5c5c 20px);\n",
       "    }\n",
       "    .progress-bar-interrupted, .progress-bar-interrupted::-webkit-progress-bar {\n",
       "        background: #F44336;\n",
       "    }\n",
       "</style>\n"
      ],
      "text/plain": [
       "<IPython.core.display.HTML object>"
      ]
     },
     "metadata": {},
     "output_type": "display_data"
    },
    {
     "data": {
      "text/html": [
       "\n",
       "    <div>\n",
       "      <progress value='0' class='' max='250' style='width:300px; height:20px; vertical-align: middle;'></progress>\n",
       "      0.00% [0/250 00:00&lt;?]\n",
       "    </div>\n",
       "    \n",
       "\n",
       "\n",
       "    <div>\n",
       "      <progress value='291' class='' max='1328' style='width:300px; height:20px; vertical-align: middle;'></progress>\n",
       "      21.91% [291/1328 00:46&lt;02:44]\n",
       "    </div>\n",
       "    "
      ],
      "text/plain": [
       "<IPython.core.display.HTML object>"
      ]
     },
     "metadata": {},
     "output_type": "display_data"
    }
   ],
   "source": [
    "mb = master_bar(range(config.epochs))\n",
    "for i_epoch in mb:\n",
    "    sampler = ReplacementSampler(\n",
    "        total_samples_needed=dataset_train.num_rows,\n",
    "        batch_size=config.batch_size\n",
    "    )\n",
    "    for i_batch, ind in enumerate(progress_bar(sampler, parent=mb)):\n",
    "        with Pool(processes=config.num_workers) as pool:\n",
    "            arrays = pool.map(process_sample, ind)\n",
    "        batch = np.stack(arrays)\n",
    "        x = Tensor(batch).permute(0, 3, 1, 2)"
   ]
  }
 ],
 "metadata": {
  "kernelspec": {
   "display_name": "Python 3 (ipykernel)",
   "language": "python",
   "name": "python3"
  },
  "language_info": {
   "codemirror_mode": {
    "name": "ipython",
    "version": 3
   },
   "file_extension": ".py",
   "mimetype": "text/x-python",
   "name": "python",
   "nbconvert_exporter": "python",
   "pygments_lexer": "ipython3",
   "version": "3.10.12"
  }
 },
 "nbformat": 4,
 "nbformat_minor": 5
}
