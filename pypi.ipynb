{
 "cells": [
  {
   "cell_type": "code",
   "execution_count": 2,
   "id": "02267cda-db9e-4461-878e-17e419348107",
   "metadata": {},
   "outputs": [
    {
     "name": "stdout",
     "output_type": "stream",
     "text": [
      "\u001b[1m* Creating isolated environment: venv+pip...\u001b[0m\n",
      "\u001b[1m* Installing packages in isolated environment:\u001b[0m\n",
      "  - setuptools>=42\n",
      "  - wheel\n",
      "\u001b[1m* Getting build dependencies for sdist...\u001b[0m\n",
      "/tmp/build-env-i27pjdx8/lib/python3.10/site-packages/setuptools/config/expand.py:124: SetuptoolsWarning: File '/home/dgj335/danjacobellis/walloc/LICENSE' cannot be found\n",
      "  return '\\n'.join(\n",
      "running egg_info\n",
      "writing src/walloc.egg-info/PKG-INFO\n",
      "writing dependency_links to src/walloc.egg-info/dependency_links.txt\n",
      "writing requirements to src/walloc.egg-info/requires.txt\n",
      "writing top-level names to src/walloc.egg-info/top_level.txt\n",
      "reading manifest file 'src/walloc.egg-info/SOURCES.txt'\n",
      "writing manifest file 'src/walloc.egg-info/SOURCES.txt'\n",
      "\u001b[1m* Building sdist...\u001b[0m\n",
      "/tmp/build-env-i27pjdx8/lib/python3.10/site-packages/setuptools/config/expand.py:124: SetuptoolsWarning: File '/home/dgj335/danjacobellis/walloc/LICENSE' cannot be found\n",
      "  return '\\n'.join(\n",
      "running sdist\n",
      "running egg_info\n",
      "writing src/walloc.egg-info/PKG-INFO\n",
      "writing dependency_links to src/walloc.egg-info/dependency_links.txt\n",
      "writing requirements to src/walloc.egg-info/requires.txt\n",
      "writing top-level names to src/walloc.egg-info/top_level.txt\n",
      "reading manifest file 'src/walloc.egg-info/SOURCES.txt'\n",
      "writing manifest file 'src/walloc.egg-info/SOURCES.txt'\n",
      "running check\n",
      "creating walloc-1.0.3\n",
      "creating walloc-1.0.3/src/walloc\n",
      "creating walloc-1.0.3/src/walloc.egg-info\n",
      "copying files to walloc-1.0.3...\n",
      "copying README.md -> walloc-1.0.3\n",
      "copying pyproject.toml -> walloc-1.0.3\n",
      "copying src/walloc/__init__.py -> walloc-1.0.3/src/walloc\n",
      "copying src/walloc/walloc.py -> walloc-1.0.3/src/walloc\n",
      "copying src/walloc.egg-info/PKG-INFO -> walloc-1.0.3/src/walloc.egg-info\n",
      "copying src/walloc.egg-info/SOURCES.txt -> walloc-1.0.3/src/walloc.egg-info\n",
      "copying src/walloc.egg-info/dependency_links.txt -> walloc-1.0.3/src/walloc.egg-info\n",
      "copying src/walloc.egg-info/requires.txt -> walloc-1.0.3/src/walloc.egg-info\n",
      "copying src/walloc.egg-info/top_level.txt -> walloc-1.0.3/src/walloc.egg-info\n",
      "copying src/walloc.egg-info/SOURCES.txt -> walloc-1.0.3/src/walloc.egg-info\n",
      "Writing walloc-1.0.3/setup.cfg\n",
      "Creating tar archive\n",
      "removing 'walloc-1.0.3' (and everything under it)\n",
      "\u001b[1m* Building wheel from sdist\u001b[0m\n",
      "\u001b[1m* Creating isolated environment: venv+pip...\u001b[0m\n",
      "\u001b[1m* Installing packages in isolated environment:\u001b[0m\n",
      "  - setuptools>=42\n",
      "  - wheel\n",
      "\u001b[1m* Getting build dependencies for wheel...\u001b[0m\n",
      "/tmp/build-env-4y20wo2w/lib/python3.10/site-packages/setuptools/config/expand.py:124: SetuptoolsWarning: File '/tmp/build-via-sdist-m88kt8cz/walloc-1.0.3/LICENSE' cannot be found\n",
      "  return '\\n'.join(\n",
      "running egg_info\n",
      "writing src/walloc.egg-info/PKG-INFO\n",
      "writing dependency_links to src/walloc.egg-info/dependency_links.txt\n",
      "writing requirements to src/walloc.egg-info/requires.txt\n",
      "writing top-level names to src/walloc.egg-info/top_level.txt\n",
      "reading manifest file 'src/walloc.egg-info/SOURCES.txt'\n",
      "writing manifest file 'src/walloc.egg-info/SOURCES.txt'\n",
      "\u001b[1m* Building wheel...\u001b[0m\n",
      "/tmp/build-env-4y20wo2w/lib/python3.10/site-packages/setuptools/config/expand.py:124: SetuptoolsWarning: File '/tmp/build-via-sdist-m88kt8cz/walloc-1.0.3/LICENSE' cannot be found\n",
      "  return '\\n'.join(\n",
      "running bdist_wheel\n",
      "running build\n",
      "running build_py\n",
      "creating build/lib/walloc\n",
      "copying src/walloc/__init__.py -> build/lib/walloc\n",
      "copying src/walloc/walloc.py -> build/lib/walloc\n",
      "running egg_info\n",
      "writing src/walloc.egg-info/PKG-INFO\n",
      "writing dependency_links to src/walloc.egg-info/dependency_links.txt\n",
      "writing requirements to src/walloc.egg-info/requires.txt\n",
      "writing top-level names to src/walloc.egg-info/top_level.txt\n",
      "reading manifest file 'src/walloc.egg-info/SOURCES.txt'\n",
      "writing manifest file 'src/walloc.egg-info/SOURCES.txt'\n",
      "installing to build/bdist.linux-x86_64/wheel\n",
      "running install\n",
      "running install_lib\n",
      "creating build/bdist.linux-x86_64/wheel\n",
      "creating build/bdist.linux-x86_64/wheel/walloc\n",
      "copying build/lib/walloc/__init__.py -> build/bdist.linux-x86_64/wheel/./walloc\n",
      "copying build/lib/walloc/walloc.py -> build/bdist.linux-x86_64/wheel/./walloc\n",
      "running install_egg_info\n",
      "Copying src/walloc.egg-info to build/bdist.linux-x86_64/wheel/./walloc-1.0.3-py3.10.egg-info\n",
      "running install_scripts\n",
      "creating build/bdist.linux-x86_64/wheel/walloc-1.0.3.dist-info/WHEEL\n",
      "creating '/home/dgj335/danjacobellis/walloc/dist/.tmp-s0dsej0i/walloc-1.0.3-py3-none-any.whl' and adding 'build/bdist.linux-x86_64/wheel' to it\n",
      "adding 'walloc/__init__.py'\n",
      "adding 'walloc/walloc.py'\n",
      "adding 'walloc-1.0.3.dist-info/METADATA'\n",
      "adding 'walloc-1.0.3.dist-info/WHEEL'\n",
      "adding 'walloc-1.0.3.dist-info/top_level.txt'\n",
      "adding 'walloc-1.0.3.dist-info/RECORD'\n",
      "removing build/bdist.linux-x86_64/wheel\n",
      "\u001b[1m\u001b[92mSuccessfully built \u001b[4mwalloc-1.0.3.tar.gz\u001b[0m\u001b[1m\u001b[92m and \u001b[4mwalloc-1.0.3-py3-none-any.whl\u001b[0m\u001b[1m\u001b[92m\u001b[0m\n"
     ]
    }
   ],
   "source": [
    "!python3 -m build"
   ]
  },
  {
   "cell_type": "code",
   "execution_count": 3,
   "id": "939498da-b450-4287-8ae0-4f77f6749de6",
   "metadata": {},
   "outputs": [
    {
     "name": "stdout",
     "output_type": "stream",
     "text": [
      "Uploading distributions to https://upload.pypi.org/legacy/\n",
      "Uploading walloc-1.0.3-py3-none-any.whl\n",
      "\u001b[2K\u001b[35m100%\u001b[0m \u001b[90m━━━━━━━━━━━━━━━━━━━━━━━━━━━━━━━━━━━━━━━━\u001b[0m \u001b[32m25.2/25.2 kB\u001b[0m • \u001b[33m00:00\u001b[0m • \u001b[31m31.0 MB/s\u001b[0m\n",
      "\u001b[?25hUploading walloc-1.0.3.tar.gz\n",
      "\u001b[2K\u001b[35m100%\u001b[0m \u001b[90m━━━━━━━━━━━━━━━━━━━━━━━━━━━━━━━━━━━━━━━━\u001b[0m \u001b[32m28.9/28.9 kB\u001b[0m • \u001b[33m00:00\u001b[0m • \u001b[31m201.6 MB/s\u001b[0m\n",
      "\u001b[?25h\n",
      "\u001b[32mView at:\u001b[0m\n",
      "https://pypi.org/project/walloc/1.0.3/\n"
     ]
    }
   ],
   "source": [
    "!twine upload dist/*"
   ]
  }
 ],
 "metadata": {
  "kernelspec": {
   "display_name": "Python 3 (ipykernel)",
   "language": "python",
   "name": "python3"
  },
  "language_info": {
   "codemirror_mode": {
    "name": "ipython",
    "version": 3
   },
   "file_extension": ".py",
   "mimetype": "text/x-python",
   "name": "python",
   "nbconvert_exporter": "python",
   "pygments_lexer": "ipython3",
   "version": "3.10.12"
  }
 },
 "nbformat": 4,
 "nbformat_minor": 5
}
